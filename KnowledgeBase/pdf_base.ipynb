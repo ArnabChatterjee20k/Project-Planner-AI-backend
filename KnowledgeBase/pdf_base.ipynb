{
 "cells": [
  {
   "cell_type": "code",
   "execution_count": 78,
   "metadata": {},
   "outputs": [],
   "source": [
    "from langchain_community.document_loaders import PDFPlumberLoader"
   ]
  },
  {
   "cell_type": "code",
   "execution_count": 79,
   "metadata": {},
   "outputs": [
    {
     "ename": "ValueError",
     "evalue": "File path The hundred page machine learning book.pdf is not a valid file or url",
     "output_type": "error",
     "traceback": [
      "\u001b[0;31m---------------------------------------------------------------------------\u001b[0m",
      "\u001b[0;31mValueError\u001b[0m                                Traceback (most recent call last)",
      "Cell \u001b[0;32mIn[79], line 1\u001b[0m\n\u001b[0;32m----> 1\u001b[0m loader \u001b[38;5;241m=\u001b[39m \u001b[43mPDFPlumberLoader\u001b[49m\u001b[43m(\u001b[49m\u001b[38;5;124;43m\"\u001b[39;49m\u001b[38;5;124;43mThe hundred page machine learning book.pdf\u001b[39;49m\u001b[38;5;124;43m\"\u001b[39;49m\u001b[43m)\u001b[49m\n",
      "File \u001b[0;32m~/Desktop/Technova/backend/env/lib/python3.11/site-packages/langchain_community/document_loaders/pdf.py:563\u001b[0m, in \u001b[0;36mPDFPlumberLoader.__init__\u001b[0;34m(self, file_path, text_kwargs, dedupe, headers, extract_images)\u001b[0m\n\u001b[1;32m    557\u001b[0m \u001b[38;5;28;01mexcept\u001b[39;00m \u001b[38;5;167;01mImportError\u001b[39;00m:\n\u001b[1;32m    558\u001b[0m     \u001b[38;5;28;01mraise\u001b[39;00m \u001b[38;5;167;01mImportError\u001b[39;00m(\n\u001b[1;32m    559\u001b[0m         \u001b[38;5;124m\"\u001b[39m\u001b[38;5;124mpdfplumber package not found, please install it with \u001b[39m\u001b[38;5;124m\"\u001b[39m\n\u001b[1;32m    560\u001b[0m         \u001b[38;5;124m\"\u001b[39m\u001b[38;5;124m`pip install pdfplumber`\u001b[39m\u001b[38;5;124m\"\u001b[39m\n\u001b[1;32m    561\u001b[0m     )\n\u001b[0;32m--> 563\u001b[0m \u001b[38;5;28;43msuper\u001b[39;49m\u001b[43m(\u001b[49m\u001b[43m)\u001b[49m\u001b[38;5;241;43m.\u001b[39;49m\u001b[38;5;21;43m__init__\u001b[39;49m\u001b[43m(\u001b[49m\u001b[43mfile_path\u001b[49m\u001b[43m,\u001b[49m\u001b[43m \u001b[49m\u001b[43mheaders\u001b[49m\u001b[38;5;241;43m=\u001b[39;49m\u001b[43mheaders\u001b[49m\u001b[43m)\u001b[49m\n\u001b[1;32m    564\u001b[0m \u001b[38;5;28mself\u001b[39m\u001b[38;5;241m.\u001b[39mtext_kwargs \u001b[38;5;241m=\u001b[39m text_kwargs \u001b[38;5;129;01mor\u001b[39;00m {}\n\u001b[1;32m    565\u001b[0m \u001b[38;5;28mself\u001b[39m\u001b[38;5;241m.\u001b[39mdedupe \u001b[38;5;241m=\u001b[39m dedupe\n",
      "File \u001b[0;32m~/Desktop/Technova/backend/env/lib/python3.11/site-packages/langchain_community/document_loaders/pdf.py:116\u001b[0m, in \u001b[0;36mBasePDFLoader.__init__\u001b[0;34m(self, file_path, headers)\u001b[0m\n\u001b[1;32m    114\u001b[0m         \u001b[38;5;28mself\u001b[39m\u001b[38;5;241m.\u001b[39mfile_path \u001b[38;5;241m=\u001b[39m \u001b[38;5;28mstr\u001b[39m(temp_pdf)\n\u001b[1;32m    115\u001b[0m \u001b[38;5;28;01melif\u001b[39;00m \u001b[38;5;129;01mnot\u001b[39;00m os\u001b[38;5;241m.\u001b[39mpath\u001b[38;5;241m.\u001b[39misfile(\u001b[38;5;28mself\u001b[39m\u001b[38;5;241m.\u001b[39mfile_path):\n\u001b[0;32m--> 116\u001b[0m     \u001b[38;5;28;01mraise\u001b[39;00m \u001b[38;5;167;01mValueError\u001b[39;00m(\u001b[38;5;124m\"\u001b[39m\u001b[38;5;124mFile path \u001b[39m\u001b[38;5;132;01m%s\u001b[39;00m\u001b[38;5;124m is not a valid file or url\u001b[39m\u001b[38;5;124m\"\u001b[39m \u001b[38;5;241m%\u001b[39m \u001b[38;5;28mself\u001b[39m\u001b[38;5;241m.\u001b[39mfile_path)\n",
      "\u001b[0;31mValueError\u001b[0m: File path The hundred page machine learning book.pdf is not a valid file or url"
     ]
    }
   ],
   "source": [
    "loader = PDFPlumberLoader(\"The hundred page machine learning book.pdf\")"
   ]
  },
  {
   "cell_type": "code",
   "execution_count": null,
   "metadata": {},
   "outputs": [],
   "source": [
    "result = loader.load()"
   ]
  },
  {
   "cell_type": "code",
   "execution_count": null,
   "metadata": {},
   "outputs": [],
   "source": [
    "from langchain.vectorstores import FAISS\n",
    "from langchain_google_genai import  GoogleGenerativeAIEmbeddings\n",
    "from langchain.text_splitter import RecursiveCharacterTextSplitter"
   ]
  },
  {
   "cell_type": "code",
   "execution_count": null,
   "metadata": {},
   "outputs": [],
   "source": [
    "embeddings = GoogleGenerativeAIEmbeddings(model=\"models/embedding-001\",google_api_key=\"api\")"
   ]
  },
  {
   "cell_type": "code",
   "execution_count": 53,
   "metadata": {},
   "outputs": [],
   "source": [
    "text_splitter = RecursiveCharacterTextSplitter(chunk_size=1000, chunk_overlap=0)\n",
    "docs = text_splitter.split_documents(result)"
   ]
  },
  {
   "cell_type": "code",
   "execution_count": 54,
   "metadata": {},
   "outputs": [],
   "source": [
    "db = FAISS.from_documents(docs, embeddings)\n",
    "db.save_local(\"faiss_index\")"
   ]
  },
  {
   "cell_type": "code",
   "execution_count": 55,
   "metadata": {},
   "outputs": [],
   "source": [
    "db = FAISS.load_local(\"faiss_index\",embeddings=embeddings,allow_dangerous_deserialization=True)"
   ]
  },
  {
   "cell_type": "code",
   "execution_count": 56,
   "metadata": {},
   "outputs": [],
   "source": [
    "from langchain.chains.question_answering import load_qa_chain\n",
    "from langchain import PromptTemplate"
   ]
  },
  {
   "cell_type": "code",
   "execution_count": 57,
   "metadata": {},
   "outputs": [],
   "source": [
    "prompt_template = \"\"\"\n",
    "  Explore the Text Documents. \n",
    "  If the answer is present in the context, provide comprehensive details. \n",
    "  If not, derive the answer from the video content anyhow.\n",
    "  \\n\\n\n",
    "  Transcript:\\n {context}?\\n\n",
    "  Question: \\n{question}\\n\n",
    "\n",
    "  Answer:\n",
    "\"\"\"\n",
    "\n",
    "prompt = PromptTemplate(template = prompt_template, input_variables = [\"context\", \"question\"])"
   ]
  },
  {
   "cell_type": "code",
   "execution_count": 73,
   "metadata": {},
   "outputs": [],
   "source": [
    "question = \"who is the author the book\""
   ]
  },
  {
   "cell_type": "code",
   "execution_count": 74,
   "metadata": {},
   "outputs": [
    {
     "data": {
      "text/plain": [
       "[Document(page_content=\"Andriy Burkov's\", metadata={'source': 'The hundred page machine learning book.pdf', 'file_path': 'The hundred page machine learning book.pdf', 'page': 51, 'total_pages': 152, 'CreationDate': 'D:20181218050746Z', 'ModDate': 'D:20190122195134Z', 'Producer': '3-Heights(TM) PDF Optimization Shell 4.8.25.2 (http://www.pdf-tools.com)'}),\n",
       " Document(page_content=\"Andriy Burkov's\", metadata={'source': 'The hundred page machine learning book.pdf', 'file_path': 'The hundred page machine learning book.pdf', 'page': 106, 'total_pages': 152, 'CreationDate': 'D:20181218050746Z', 'ModDate': 'D:20190122195134Z', 'Producer': '3-Heights(TM) PDF Optimization Shell 4.8.25.2 (http://www.pdf-tools.com)'}),\n",
       " Document(page_content='The\\nHundred-\\nPage\\nMachine\\nLearning\\nBook\\nAndriy Burkov', metadata={'source': 'The hundred page machine learning book.pdf', 'file_path': 'The hundred page machine learning book.pdf', 'page': 0, 'total_pages': 152, 'CreationDate': 'D:20181218050746Z', 'ModDate': 'D:20190122195134Z', 'Producer': '3-Heights(TM) PDF Optimization Shell 4.8.25.2 (http://www.pdf-tools.com)'}),\n",
       " Document(page_content='The\\nHundred-\\nPage\\nMachine\\nLearning\\nBook\\nAndriy Burkov', metadata={'source': 'The hundred page machine learning book.pdf', 'file_path': 'The hundred page machine learning book.pdf', 'page': 4, 'total_pages': 152, 'CreationDate': 'D:20181218050746Z', 'ModDate': 'D:20190122195134Z', 'Producer': '3-Heights(TM) PDF Optimization Shell 4.8.25.2 (http://www.pdf-tools.com)'}),\n",
       " Document(page_content='The\\nHundred-\\nPage\\nMachine\\nLearning\\nBook\\nAndriy Burkov', metadata={'source': 'The hundred page machine learning book.pdf', 'file_path': 'The hundred page machine learning book.pdf', 'page': 13, 'total_pages': 152, 'CreationDate': 'D:20181218050746Z', 'ModDate': 'D:20190122195134Z', 'Producer': '3-Heights(TM) PDF Optimization Shell 4.8.25.2 (http://www.pdf-tools.com)'}),\n",
       " Document(page_content='The\\nHundred-\\nPage\\nMachine\\nLearning\\nBook\\nAndriy Burkov', metadata={'source': 'The hundred page machine learning book.pdf', 'file_path': 'The hundred page machine learning book.pdf', 'page': 26, 'total_pages': 152, 'CreationDate': 'D:20181218050746Z', 'ModDate': 'D:20190122195134Z', 'Producer': '3-Heights(TM) PDF Optimization Shell 4.8.25.2 (http://www.pdf-tools.com)'}),\n",
       " Document(page_content='The\\nHundred-\\nPage\\nMachine\\nLearning\\nBook\\nAndriy Burkov', metadata={'source': 'The hundred page machine learning book.pdf', 'file_path': 'The hundred page machine learning book.pdf', 'page': 42, 'total_pages': 152, 'CreationDate': 'D:20181218050746Z', 'ModDate': 'D:20190122195134Z', 'Producer': '3-Heights(TM) PDF Optimization Shell 4.8.25.2 (http://www.pdf-tools.com)'}),\n",
       " Document(page_content='The\\nHundred-\\nPage\\nMachine\\nLearning\\nBook\\nAndriy Burkov', metadata={'source': 'The hundred page machine learning book.pdf', 'file_path': 'The hundred page machine learning book.pdf', 'page': 71, 'total_pages': 152, 'CreationDate': 'D:20181218050746Z', 'ModDate': 'D:20190122195134Z', 'Producer': '3-Heights(TM) PDF Optimization Shell 4.8.25.2 (http://www.pdf-tools.com)'}),\n",
       " Document(page_content='The\\nHundred-\\nPage\\nMachine\\nLearning\\nBook\\nAndriy Burkov', metadata={'source': 'The hundred page machine learning book.pdf', 'file_path': 'The hundred page machine learning book.pdf', 'page': 85, 'total_pages': 152, 'CreationDate': 'D:20181218050746Z', 'ModDate': 'D:20190122195134Z', 'Producer': '3-Heights(TM) PDF Optimization Shell 4.8.25.2 (http://www.pdf-tools.com)'}),\n",
       " Document(page_content='The\\nHundred-\\nPage\\nMachine\\nLearning\\nBook\\nAndriy Burkov', metadata={'source': 'The hundred page machine learning book.pdf', 'file_path': 'The hundred page machine learning book.pdf', 'page': 117, 'total_pages': 152, 'CreationDate': 'D:20181218050746Z', 'ModDate': 'D:20190122195134Z', 'Producer': '3-Heights(TM) PDF Optimization Shell 4.8.25.2 (http://www.pdf-tools.com)'}),\n",
       " Document(page_content='The\\nHundred-\\nPage\\nMachine\\nLearning\\nBook\\nAndriy Burkov', metadata={'source': 'The hundred page machine learning book.pdf', 'file_path': 'The hundred page machine learning book.pdf', 'page': 134, 'total_pages': 152, 'CreationDate': 'D:20181218050746Z', 'ModDate': 'D:20190122195134Z', 'Producer': '3-Heights(TM) PDF Optimization Shell 4.8.25.2 (http://www.pdf-tools.com)'}),\n",
       " Document(page_content='The\\nHundred-\\nPage\\nMachine\\nLearning\\nBook\\nAndriy Burkov', metadata={'source': 'The hundred page machine learning book.pdf', 'file_path': 'The hundred page machine learning book.pdf', 'page': 146, 'total_pages': 152, 'CreationDate': 'D:20181218050746Z', 'ModDate': 'D:20190122195134Z', 'Producer': '3-Heights(TM) PDF Optimization Shell 4.8.25.2 (http://www.pdf-tools.com)'}),\n",
       " Document(page_content='Andriy Burkov The Hundred-Page Machine Learning Book - Draft 5', metadata={'source': 'The hundred page machine learning book.pdf', 'file_path': 'The hundred page machine learning book.pdf', 'page': 8, 'total_pages': 152, 'CreationDate': 'D:20181218050746Z', 'ModDate': 'D:20190122195134Z', 'Producer': '3-Heights(TM) PDF Optimization Shell 4.8.25.2 (http://www.pdf-tools.com)'}),\n",
       " Document(page_content='Andriy Burkov The Hundred-Page Machine Learning Book - Draft 5', metadata={'source': 'The hundred page machine learning book.pdf', 'file_path': 'The hundred page machine learning book.pdf', 'page': 46, 'total_pages': 152, 'CreationDate': 'D:20181218050746Z', 'ModDate': 'D:20190122195134Z', 'Producer': '3-Heights(TM) PDF Optimization Shell 4.8.25.2 (http://www.pdf-tools.com)'}),\n",
       " Document(page_content='Andriy Burkov The Hundred-Page Machine Learning Book - Draft 11', metadata={'source': 'The hundred page machine learning book.pdf', 'file_path': 'The hundred page machine learning book.pdf', 'page': 23, 'total_pages': 152, 'CreationDate': 'D:20181218050746Z', 'ModDate': 'D:20190122195134Z', 'Producer': '3-Heights(TM) PDF Optimization Shell 4.8.25.2 (http://www.pdf-tools.com)'}),\n",
       " Document(page_content='Andriy Burkov The Hundred-Page Machine Learning Book - Draft 7', metadata={'source': 'The hundred page machine learning book.pdf', 'file_path': 'The hundred page machine learning book.pdf', 'page': 77, 'total_pages': 152, 'CreationDate': 'D:20181218050746Z', 'ModDate': 'D:20190122195134Z', 'Producer': '3-Heights(TM) PDF Optimization Shell 4.8.25.2 (http://www.pdf-tools.com)'}),\n",
       " Document(page_content='Andriy Burkov The Hundred-Page Machine Learning Book - Draft 7', metadata={'source': 'The hundred page machine learning book.pdf', 'file_path': 'The hundred page machine learning book.pdf', 'page': 140, 'total_pages': 152, 'CreationDate': 'D:20181218050746Z', 'ModDate': 'D:20190122195134Z', 'Producer': '3-Heights(TM) PDF Optimization Shell 4.8.25.2 (http://www.pdf-tools.com)'}),\n",
       " Document(page_content='Andriy Burkov The Hundred-Page Machine Learning Book - Draft 13', metadata={'source': 'The hundred page machine learning book.pdf', 'file_path': 'The hundred page machine learning book.pdf', 'page': 97, 'total_pages': 152, 'CreationDate': 'D:20181218050746Z', 'ModDate': 'D:20190122195134Z', 'Producer': '3-Heights(TM) PDF Optimization Shell 4.8.25.2 (http://www.pdf-tools.com)'}),\n",
       " Document(page_content='Andriy Burkov The Hundred-Page Machine Learning Book - Draft 4', metadata={'source': 'The hundred page machine learning book.pdf', 'file_path': 'The hundred page machine learning book.pdf', 'page': 149, 'total_pages': 152, 'CreationDate': 'D:20181218050746Z', 'ModDate': 'D:20190122195134Z', 'Producer': '3-Heights(TM) PDF Optimization Shell 4.8.25.2 (http://www.pdf-tools.com)'}),\n",
       " Document(page_content='Andriy Burkov The Hundred-Page Machine Learning Book - Draft 10', metadata={'source': 'The hundred page machine learning book.pdf', 'file_path': 'The hundred page machine learning book.pdf', 'page': 35, 'total_pages': 152, 'CreationDate': 'D:20181218050746Z', 'ModDate': 'D:20190122195134Z', 'Producer': '3-Heights(TM) PDF Optimization Shell 4.8.25.2 (http://www.pdf-tools.com)'})]"
      ]
     },
     "execution_count": 74,
     "metadata": {},
     "output_type": "execute_result"
    }
   ],
   "source": [
    "docs = db.similarity_search(question,k=20)\n",
    "docs"
   ]
  },
  {
   "cell_type": "code",
   "execution_count": 75,
   "metadata": {},
   "outputs": [],
   "source": [
    "from langchain_google_genai import ChatGoogleGenerativeAI\n",
    "from langchain.chains.question_answering import load_qa_chain\n",
    "model = ChatGoogleGenerativeAI(model=\"gemini-pro\",\n",
    "                             temperature=0.3,google_api_key=\"api\")"
   ]
  },
  {
   "cell_type": "code",
   "execution_count": 76,
   "metadata": {},
   "outputs": [],
   "source": [
    "chain = load_qa_chain(model, chain_type=\"stuff\", prompt=prompt)"
   ]
  },
  {
   "cell_type": "code",
   "execution_count": 77,
   "metadata": {},
   "outputs": [
    {
     "data": {
      "text/plain": [
       "{'output_text': 'Andriy Burkov'}"
      ]
     },
     "execution_count": 77,
     "metadata": {},
     "output_type": "execute_result"
    }
   ],
   "source": [
    "response = chain(\n",
    "    {\"input_documents\":docs, \"question\": question}\n",
    "    , return_only_outputs=True)\n",
    "response"
   ]
  },
  {
   "cell_type": "code",
   "execution_count": null,
   "metadata": {},
   "outputs": [],
   "source": []
  }
 ],
 "metadata": {
  "kernelspec": {
   "display_name": "env",
   "language": "python",
   "name": "python3"
  },
  "language_info": {
   "codemirror_mode": {
    "name": "ipython",
    "version": 3
   },
   "file_extension": ".py",
   "mimetype": "text/x-python",
   "name": "python",
   "nbconvert_exporter": "python",
   "pygments_lexer": "ipython3",
   "version": "3.11.4"
  }
 },
 "nbformat": 4,
 "nbformat_minor": 2
}
