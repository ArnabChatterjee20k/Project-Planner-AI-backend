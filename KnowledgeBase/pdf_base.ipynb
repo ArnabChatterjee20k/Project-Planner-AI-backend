{
 "cells": [
  {
   "cell_type": "code",
   "execution_count": 48,
   "metadata": {},
   "outputs": [],
   "source": [
    "from langchain_community.document_loaders import PDFPlumberLoader"
   ]
  },
  {
   "cell_type": "code",
   "execution_count": 49,
   "metadata": {},
   "outputs": [],
   "source": [
    "loader = PDFPlumberLoader(\"The hundred page machine learning book.pdf\")"
   ]
  },
  {
   "cell_type": "code",
   "execution_count": 50,
   "metadata": {},
   "outputs": [],
   "source": [
    "result = loader.load()"
   ]
  },
  {
   "cell_type": "code",
   "execution_count": 51,
   "metadata": {},
   "outputs": [],
   "source": [
    "from langchain.vectorstores import FAISS\n",
    "from langchain_google_genai import  GoogleGenerativeAIEmbeddings\n",
    "from langchain.text_splitter import RecursiveCharacterTextSplitter"
   ]
  },
  {
   "cell_type": "code",
   "execution_count": 52,
   "metadata": {},
   "outputs": [],
   "source": [
    "embeddings = GoogleGenerativeAIEmbeddings(model=\"models/embedding-001\",google_api_key=\"api\")"
   ]
  },
  {
   "cell_type": "code",
   "execution_count": 53,
   "metadata": {},
   "outputs": [],
   "source": [
    "text_splitter = RecursiveCharacterTextSplitter(chunk_size=1000, chunk_overlap=0)\n",
    "docs = text_splitter.split_documents(result)"
   ]
  },
  {
   "cell_type": "code",
   "execution_count": 54,
   "metadata": {},
   "outputs": [],
   "source": [
    "db = FAISS.from_documents(docs, embeddings)\n",
    "db.save_local(\"faiss_index\")"
   ]
  },
  {
   "cell_type": "code",
   "execution_count": 55,
   "metadata": {},
   "outputs": [],
   "source": [
    "db = FAISS.load_local(\"faiss_index\",embeddings=embeddings,allow_dangerous_deserialization=True)"
   ]
  },
  {
   "cell_type": "code",
   "execution_count": 56,
   "metadata": {},
   "outputs": [],
   "source": [
    "from langchain.chains.question_answering import load_qa_chain\n",
    "from langchain import PromptTemplate"
   ]
  },
  {
   "cell_type": "code",
   "execution_count": 57,
   "metadata": {},
   "outputs": [],
   "source": [
    "prompt_template = \"\"\"\n",
    "  Explore the Text Documents. \n",
    "  If the answer is present in the context, provide comprehensive details. \n",
    "  If not, derive the answer from the video content anyhow.\n",
    "  \\n\\n\n",
    "  Transcript:\\n {context}?\\n\n",
    "  Question: \\n{question}\\n\n",
    "\n",
    "  Answer:\n",
    "\"\"\"\n",
    "\n",
    "prompt = PromptTemplate(template = prompt_template, input_variables = [\"context\", \"question\"])"
   ]
  },
  {
   "cell_type": "code",
   "execution_count": 73,
   "metadata": {},
   "outputs": [],
   "source": [
    "question = \"who is the author the book\""
   ]
  },
  {
   "cell_type": "code",
   "execution_count": 74,
   "metadata": {},
   "outputs": [
    {
     "data": {
      "text/plain": [
       "[Document(page_content=\"Andriy Burkov's\", metadata={'source': 'The hundred page machine learning book.pdf', 'file_path': 'The hundred page machine learning book.pdf', 'page': 51, 'total_pages': 152, 'CreationDate': 'D:20181218050746Z', 'ModDate': 'D:20190122195134Z', 'Producer': '3-Heights(TM) PDF Optimization Shell 4.8.25.2 (http://www.pdf-tools.com)'}),\n",
       " Document(page_content=\"Andriy Burkov's\", metadata={'source': 'The hundred page machine learning book.pdf', 'file_path': 'The hundred page machine learning book.pdf', 'page': 106, 'total_pages': 152, 'CreationDate': 'D:20181218050746Z', 'ModDate': 'D:20190122195134Z', 'Producer': '3-Heights(TM) PDF Optimization Shell 4.8.25.2 (http://www.pdf-tools.com)'}),\n",
       " Document(page_content='The\\nHundred-\\nPage\\nMachine\\nLearning\\nBook\\nAndriy Burkov', metadata={'source': 'The hundred page machine learning book.pdf', 'file_path': 'The hundred page machine learning book.pdf', 'page': 0, 'total_pages': 152, 'CreationDate': 'D:20181218050746Z', 'ModDate': 'D:20190122195134Z', 'Producer': '3-Heights(TM) PDF Optimization Shell 4.8.25.2 (http://www.pdf-tools.com)'}),\n",
       " Document(page_content='The\\nHundred-\\nPage\\nMachine\\nLearning\\nBook\\nAndriy Burkov', metadata={'source': 'The hundred page machine learning book.pdf', 'file_path': 'The hundred page machine learning book.pdf', 'page': 4, 'total_pages': 152, 'CreationDate': 'D:20181218050746Z', 'ModDate': 'D:20190122195134Z', 'Producer': '3-Heights(TM) PDF Optimization Shell 4.8.25.2 (http://www.pdf-tools.com)'}),\n",
       " Document(page_content='The\\nHundred-\\nPage\\nMachine\\nLearning\\nBook\\nAndriy Burkov', metadata={'source': 'The hundred page machine learning book.pdf', 'file_path': 'The hundred page machine learning book.pdf', 'page': 13, 'total_pages': 152, 'CreationDate': 'D:20181218050746Z', 'ModDate': 'D:20190122195134Z', 'Producer': '3-Heights(TM) PDF Optimization Shell 4.8.25.2 (http://www.pdf-tools.com)'}),\n",
       " Document(page_content='The\\nHundred-\\nPage\\nMachine\\nLearning\\nBook\\nAndriy Burkov', metadata={'source': 'The hundred page machine learning book.pdf', 'file_path': 'The hundred page machine learning book.pdf', 'page': 26, 'total_pages': 152, 'CreationDate': 'D:20181218050746Z', 'ModDate': 'D:20190122195134Z', 'Producer': '3-Heights(TM) PDF Optimization Shell 4.8.25.2 (http://www.pdf-tools.com)'}),\n",
       " Document(page_content='The\\nHundred-\\nPage\\nMachine\\nLearning\\nBook\\nAndriy Burkov', metadata={'source': 'The hundred page machine learning book.pdf', 'file_path': 'The hundred page machine learning book.pdf', 'page': 42, 'total_pages': 152, 'CreationDate': 'D:20181218050746Z', 'ModDate': 'D:20190122195134Z', 'Producer': '3-Heights(TM) PDF Optimization Shell 4.8.25.2 (http://www.pdf-tools.com)'}),\n",
       " Document(page_content='The\\nHundred-\\nPage\\nMachine\\nLearning\\nBook\\nAndriy Burkov', metadata={'source': 'The hundred page machine learning book.pdf', 'file_path': 'The hundred page machine learning book.pdf', 'page': 71, 'total_pages': 152, 'CreationDate': 'D:20181218050746Z', 'ModDate': 'D:20190122195134Z', 'Producer': '3-Heights(TM) PDF Optimization Shell 4.8.25.2 (http://www.pdf-tools.com)'}),\n",
       " Document(page_content='The\\nHundred-\\nPage\\nMachine\\nLearning\\nBook\\nAndriy Burkov', metadata={'source': 'The hundred page machine learning book.pdf', 'file_path': 'The hundred page machine learning book.pdf', 'page': 85, 'total_pages': 152, 'CreationDate': 'D:20181218050746Z', 'ModDate': 'D:20190122195134Z', 'Producer': '3-Heights(TM) PDF Optimization Shell 4.8.25.2 (http://www.pdf-tools.com)'}),\n",
       " Document(page_content='The\\nHundred-\\nPage\\nMachine\\nLearning\\nBook\\nAndriy Burkov', metadata={'source': 'The hundred page machine learning book.pdf', 'file_path': 'The hundred page machine learning book.pdf', 'page': 117, 'total_pages': 152, 'CreationDate': 'D:20181218050746Z', 'ModDate': 'D:20190122195134Z', 'Producer': '3-Heights(TM) PDF Optimization Shell 4.8.25.2 (http://www.pdf-tools.com)'}),\n",
       " Document(page_content='The\\nHundred-\\nPage\\nMachine\\nLearning\\nBook\\nAndriy Burkov', metadata={'source': 'The hundred page machine learning book.pdf', 'file_path': 'The hundred page machine learning book.pdf', 'page': 134, 'total_pages': 152, 'CreationDate': 'D:20181218050746Z', 'ModDate': 'D:20190122195134Z', 'Producer': '3-Heights(TM) PDF Optimization Shell 4.8.25.2 (http://www.pdf-tools.com)'}),\n",
       " Document(page_content='The\\nHundred-\\nPage\\nMachine\\nLearning\\nBook\\nAndriy Burkov', metadata={'source': 'The hundred page machine learning book.pdf', 'file_path': 'The hundred page machine learning book.pdf', 'page': 146, 'total_pages': 152, 'CreationDate': 'D:20181218050746Z', 'ModDate': 'D:20190122195134Z', 'Producer': '3-Heights(TM) PDF Optimization Shell 4.8.25.2 (http://www.pdf-tools.com)'}),\n",
       " Document(page_content='Andriy Burkov The Hundred-Page Machine Learning Book - Draft 5', metadata={'source': 'The hundred page machine learning book.pdf', 'file_path': 'The hundred page machine learning book.pdf', 'page': 8, 'total_pages': 152, 'CreationDate': 'D:20181218050746Z', 'ModDate': 'D:20190122195134Z', 'Producer': '3-Heights(TM) PDF Optimization Shell 4.8.25.2 (http://www.pdf-tools.com)'}),\n",
       " Document(page_content='Andriy Burkov The Hundred-Page Machine Learning Book - Draft 5', metadata={'source': 'The hundred page machine learning book.pdf', 'file_path': 'The hundred page machine learning book.pdf', 'page': 46, 'total_pages': 152, 'CreationDate': 'D:20181218050746Z', 'ModDate': 'D:20190122195134Z', 'Producer': '3-Heights(TM) PDF Optimization Shell 4.8.25.2 (http://www.pdf-tools.com)'}),\n",
       " Document(page_content='Andriy Burkov The Hundred-Page Machine Learning Book - Draft 11', metadata={'source': 'The hundred page machine learning book.pdf', 'file_path': 'The hundred page machine learning book.pdf', 'page': 23, 'total_pages': 152, 'CreationDate': 'D:20181218050746Z', 'ModDate': 'D:20190122195134Z', 'Producer': '3-Heights(TM) PDF Optimization Shell 4.8.25.2 (http://www.pdf-tools.com)'}),\n",
       " Document(page_content='Andriy Burkov The Hundred-Page Machine Learning Book - Draft 7', metadata={'source': 'The hundred page machine learning book.pdf', 'file_path': 'The hundred page machine learning book.pdf', 'page': 77, 'total_pages': 152, 'CreationDate': 'D:20181218050746Z', 'ModDate': 'D:20190122195134Z', 'Producer': '3-Heights(TM) PDF Optimization Shell 4.8.25.2 (http://www.pdf-tools.com)'}),\n",
       " Document(page_content='Andriy Burkov The Hundred-Page Machine Learning Book - Draft 7', metadata={'source': 'The hundred page machine learning book.pdf', 'file_path': 'The hundred page machine learning book.pdf', 'page': 140, 'total_pages': 152, 'CreationDate': 'D:20181218050746Z', 'ModDate': 'D:20190122195134Z', 'Producer': '3-Heights(TM) PDF Optimization Shell 4.8.25.2 (http://www.pdf-tools.com)'}),\n",
       " Document(page_content='Andriy Burkov The Hundred-Page Machine Learning Book - Draft 13', metadata={'source': 'The hundred page machine learning book.pdf', 'file_path': 'The hundred page machine learning book.pdf', 'page': 97, 'total_pages': 152, 'CreationDate': 'D:20181218050746Z', 'ModDate': 'D:20190122195134Z', 'Producer': '3-Heights(TM) PDF Optimization Shell 4.8.25.2 (http://www.pdf-tools.com)'}),\n",
       " Document(page_content='Andriy Burkov The Hundred-Page Machine Learning Book - Draft 4', metadata={'source': 'The hundred page machine learning book.pdf', 'file_path': 'The hundred page machine learning book.pdf', 'page': 149, 'total_pages': 152, 'CreationDate': 'D:20181218050746Z', 'ModDate': 'D:20190122195134Z', 'Producer': '3-Heights(TM) PDF Optimization Shell 4.8.25.2 (http://www.pdf-tools.com)'}),\n",
       " Document(page_content='Andriy Burkov The Hundred-Page Machine Learning Book - Draft 10', metadata={'source': 'The hundred page machine learning book.pdf', 'file_path': 'The hundred page machine learning book.pdf', 'page': 35, 'total_pages': 152, 'CreationDate': 'D:20181218050746Z', 'ModDate': 'D:20190122195134Z', 'Producer': '3-Heights(TM) PDF Optimization Shell 4.8.25.2 (http://www.pdf-tools.com)'})]"
      ]
     },
     "execution_count": 74,
     "metadata": {},
     "output_type": "execute_result"
    }
   ],
   "source": [
    "docs = db.similarity_search(question,k=20)\n",
    "docs"
   ]
  },
  {
   "cell_type": "code",
   "execution_count": 75,
   "metadata": {},
   "outputs": [],
   "source": [
    "from langchain_google_genai import ChatGoogleGenerativeAI\n",
    "from langchain.chains.question_answering import load_qa_chain\n",
    "model = ChatGoogleGenerativeAI(model=\"gemini-pro\",\n",
    "                             temperature=0.3,google_api_key=\"api\")"
   ]
  },
  {
   "cell_type": "code",
   "execution_count": 76,
   "metadata": {},
   "outputs": [],
   "source": [
    "chain = load_qa_chain(model, chain_type=\"stuff\", prompt=prompt)"
   ]
  },
  {
   "cell_type": "code",
   "execution_count": 77,
   "metadata": {},
   "outputs": [
    {
     "data": {
      "text/plain": [
       "{'output_text': 'Andriy Burkov'}"
      ]
     },
     "execution_count": 77,
     "metadata": {},
     "output_type": "execute_result"
    }
   ],
   "source": [
    "response = chain(\n",
    "    {\"input_documents\":docs, \"question\": question}\n",
    "    , return_only_outputs=True)\n",
    "response"
   ]
  },
  {
   "cell_type": "code",
   "execution_count": null,
   "metadata": {},
   "outputs": [],
   "source": []
  }
 ],
 "metadata": {
  "kernelspec": {
   "display_name": "env",
   "language": "python",
   "name": "python3"
  },
  "language_info": {
   "codemirror_mode": {
    "name": "ipython",
    "version": 3
   },
   "file_extension": ".py",
   "mimetype": "text/x-python",
   "name": "python",
   "nbconvert_exporter": "python",
   "pygments_lexer": "ipython3",
   "version": "3.11.4"
  }
 },
 "nbformat": 4,
 "nbformat_minor": 2
}
